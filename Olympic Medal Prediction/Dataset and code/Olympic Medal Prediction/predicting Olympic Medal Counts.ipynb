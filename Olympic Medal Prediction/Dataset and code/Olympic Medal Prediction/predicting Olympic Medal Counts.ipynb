{
 "cells": [
  {
   "cell_type": "markdown",
   "id": "9966a6c0-8137-4fec-b0d3-3383096ee7cf",
   "metadata": {},
   "source": [
    "# About the Dataset\n",
    "\n",
    "The dataset (check folder for Data) includes:\n",
    "- iso: Country ISO code\n",
    "- ioc: International Olympic Committee code\n",
    "- name: Country name\n",
    "- continent: Continent of the country\n",
    "- population: Population of the country\n",
    "- gdp: Gross Domestic Product (GDP) of the country\n",
    "- olympics_index: An index indicating the country's overall performance in the Olympics\n",
    "- sports_index: An index indicating the country's sports infrastructure and support\n",
    "- olympicsIndex: A calculated index related to Olympic performance\n",
    "- sportsIndex: A calculated index related to sports\n",
    "- total: Total number of medals won\n",
    "- gold: Number of gold medals won\n",
    "- silver: Number of silver medals won\n",
    "- bronze: Number of bronze medals won"
   ]
  },
  {
   "cell_type": "markdown",
   "id": "c8d31022-4d17-4264-b44e-5b376940bcdb",
   "metadata": {},
   "source": [
    "# Loading Libraries"
   ]
  },
  {
   "cell_type": "code",
   "execution_count": 1,
   "id": "6be5bf91-b86d-4971-a7e4-c61197437710",
   "metadata": {
    "tags": []
   },
   "outputs": [],
   "source": [
    "import pandas as pd\n",
    "import numpy as np\n",
    "import matplotlib.pyplot as plt\n",
    "import seaborn as sns\n",
    "from sklearn.impute import KNNImputer\n",
    "from sklearn.model_selection import train_test_split\n",
    "from sklearn.preprocessing import StandardScaler, OneHotEncoder\n",
    "from sklearn.compose import ColumnTransformer\n",
    "from sklearn.pipeline import Pipeline\n",
    "from sklearn.linear_model import LinearRegression\n",
    "from sklearn.metrics import mean_squared_error, r2_score\n",
    "from sklearn.metrics import mean_absolute_error\n",
    "import tensorflow as tf\n",
    "from tensorflow.keras.models import Sequential\n",
    "from tensorflow.keras.layers import Dense"
   ]
  },
  {
   "cell_type": "markdown",
   "id": "0af44dd0-acd8-4a4a-8632-ea3b3d68f948",
   "metadata": {},
   "source": [
    "# Loading the dataset"
   ]
  },
  {
   "cell_type": "code",
   "execution_count": 3,
   "id": "3d6875c7-ddfb-41c9-b362-093a5eccf27d",
   "metadata": {
    "tags": []
   },
   "outputs": [],
   "source": [
    "import pandas as pd\n",
    "data = pd.read_csv(\"1723465410469_ca7543c673.csv\")"
   ]
  },
  {
   "cell_type": "code",
   "execution_count": 4,
   "id": "9f382b63-ced5-4bc6-a167-10a4787fbbbe",
   "metadata": {
    "tags": []
   },
   "outputs": [
    {
     "data": {
      "text/html": [
       "<div>\n",
       "<style scoped>\n",
       "    .dataframe tbody tr th:only-of-type {\n",
       "        vertical-align: middle;\n",
       "    }\n",
       "\n",
       "    .dataframe tbody tr th {\n",
       "        vertical-align: top;\n",
       "    }\n",
       "\n",
       "    .dataframe thead th {\n",
       "        text-align: right;\n",
       "    }\n",
       "</style>\n",
       "<table border=\"1\" class=\"dataframe\">\n",
       "  <thead>\n",
       "    <tr style=\"text-align: right;\">\n",
       "      <th></th>\n",
       "      <th>iso</th>\n",
       "      <th>ioc</th>\n",
       "      <th>name</th>\n",
       "      <th>continent</th>\n",
       "      <th>population</th>\n",
       "      <th>gdp</th>\n",
       "      <th>olympics_index</th>\n",
       "      <th>sports_index</th>\n",
       "      <th>olympicsIndex</th>\n",
       "      <th>sportsIndex</th>\n",
       "      <th>total</th>\n",
       "      <th>gold</th>\n",
       "      <th>silver</th>\n",
       "      <th>bronze</th>\n",
       "    </tr>\n",
       "  </thead>\n",
       "  <tbody>\n",
       "    <tr>\n",
       "      <th>0</th>\n",
       "      <td>ARG</td>\n",
       "      <td>ARG</td>\n",
       "      <td>Argentina</td>\n",
       "      <td>South America</td>\n",
       "      <td>45376763</td>\n",
       "      <td>383066977654</td>\n",
       "      <td>19.597142</td>\n",
       "      <td>9.324537</td>\n",
       "      <td>19.597142</td>\n",
       "      <td>9.324537</td>\n",
       "      <td>3</td>\n",
       "      <td>0</td>\n",
       "      <td>1</td>\n",
       "      <td>2</td>\n",
       "    </tr>\n",
       "    <tr>\n",
       "      <th>1</th>\n",
       "      <td>ARM</td>\n",
       "      <td>ARM</td>\n",
       "      <td>Armenia</td>\n",
       "      <td>Asia</td>\n",
       "      <td>2963234</td>\n",
       "      <td>12645459214</td>\n",
       "      <td>19.681457</td>\n",
       "      <td>13.497324</td>\n",
       "      <td>19.681457</td>\n",
       "      <td>13.497324</td>\n",
       "      <td>4</td>\n",
       "      <td>0</td>\n",
       "      <td>2</td>\n",
       "      <td>2</td>\n",
       "    </tr>\n",
       "    <tr>\n",
       "      <th>2</th>\n",
       "      <td>AUS</td>\n",
       "      <td>AUS</td>\n",
       "      <td>Australia</td>\n",
       "      <td>Oceania</td>\n",
       "      <td>25687041</td>\n",
       "      <td>1330900925057</td>\n",
       "      <td>31.170099</td>\n",
       "      <td>11.073845</td>\n",
       "      <td>31.170099</td>\n",
       "      <td>11.073845</td>\n",
       "      <td>46</td>\n",
       "      <td>17</td>\n",
       "      <td>7</td>\n",
       "      <td>22</td>\n",
       "    </tr>\n",
       "    <tr>\n",
       "      <th>3</th>\n",
       "      <td>AUT</td>\n",
       "      <td>AUT</td>\n",
       "      <td>Austria</td>\n",
       "      <td>Europe</td>\n",
       "      <td>8917205</td>\n",
       "      <td>428965397959</td>\n",
       "      <td>12.212139</td>\n",
       "      <td>15.923033</td>\n",
       "      <td>12.212139</td>\n",
       "      <td>15.923033</td>\n",
       "      <td>7</td>\n",
       "      <td>1</td>\n",
       "      <td>1</td>\n",
       "      <td>5</td>\n",
       "    </tr>\n",
       "    <tr>\n",
       "      <th>4</th>\n",
       "      <td>AZE</td>\n",
       "      <td>AZE</td>\n",
       "      <td>Azerbaijan</td>\n",
       "      <td>Europe</td>\n",
       "      <td>10110116</td>\n",
       "      <td>42607176471</td>\n",
       "      <td>18.213838</td>\n",
       "      <td>13.103344</td>\n",
       "      <td>18.213838</td>\n",
       "      <td>13.103344</td>\n",
       "      <td>7</td>\n",
       "      <td>0</td>\n",
       "      <td>3</td>\n",
       "      <td>4</td>\n",
       "    </tr>\n",
       "  </tbody>\n",
       "</table>\n",
       "</div>"
      ],
      "text/plain": [
       "   iso  ioc        name      continent  population            gdp  \\\n",
       "0  ARG  ARG   Argentina  South America    45376763   383066977654   \n",
       "1  ARM  ARM     Armenia           Asia     2963234    12645459214   \n",
       "2  AUS  AUS   Australia        Oceania    25687041  1330900925057   \n",
       "3  AUT  AUT     Austria         Europe     8917205   428965397959   \n",
       "4  AZE  AZE  Azerbaijan         Europe    10110116    42607176471   \n",
       "\n",
       "   olympics_index  sports_index  olympicsIndex  sportsIndex  total  gold  \\\n",
       "0       19.597142      9.324537      19.597142     9.324537      3     0   \n",
       "1       19.681457     13.497324      19.681457    13.497324      4     0   \n",
       "2       31.170099     11.073845      31.170099    11.073845     46    17   \n",
       "3       12.212139     15.923033      12.212139    15.923033      7     1   \n",
       "4       18.213838     13.103344      18.213838    13.103344      7     0   \n",
       "\n",
       "   silver  bronze  \n",
       "0       1       2  \n",
       "1       2       2  \n",
       "2       7      22  \n",
       "3       1       5  \n",
       "4       3       4  "
      ]
     },
     "execution_count": 4,
     "metadata": {},
     "output_type": "execute_result"
    }
   ],
   "source": [
    "data.head()"
   ]
  },
  {
   "cell_type": "code",
   "execution_count": 5,
   "id": "0c586f75-da27-448d-97e0-ab4e512aad92",
   "metadata": {},
   "outputs": [
    {
     "data": {
      "text/plain": [
       "(93, 14)"
      ]
     },
     "execution_count": 5,
     "metadata": {},
     "output_type": "execute_result"
    }
   ],
   "source": [
    "import numpy as np\n",
    "data.shape"
   ]
  },
  {
   "cell_type": "markdown",
   "id": "a39add5b-de3d-4da0-9bdc-9b4c30952f60",
   "metadata": {},
   "source": [
    "# Data Preprocessing"
   ]
  },
  {
   "cell_type": "code",
   "execution_count": 7,
   "id": "185a857b-28e3-48a0-b129-700002d3a2b8",
   "metadata": {
    "tags": []
   },
   "outputs": [
    {
     "name": "stdout",
     "output_type": "stream",
     "text": [
      "Missing Values Initial: \n",
      "iso               0\n",
      "ioc               0\n",
      "name              0\n",
      "continent         5\n",
      "population        0\n",
      "gdp               0\n",
      "olympics_index    2\n",
      "sports_index      2\n",
      "olympicsIndex     0\n",
      "sportsIndex       0\n",
      "total             0\n",
      "gold              0\n",
      "silver            0\n",
      "bronze            0\n",
      "dtype: int64\n"
     ]
    }
   ],
   "source": [
    "# Checking for missing values\n",
    "missing_values_initial = data.isnull().sum()\n",
    "print(f\"Missing Values Initial: \\n{missing_values_initial}\")"
   ]
  },
  {
   "cell_type": "code",
   "execution_count": 8,
   "id": "cbae9a1e-6ed5-4bac-8451-f4f73cc66ddf",
   "metadata": {
    "tags": []
   },
   "outputs": [
    {
     "data": {
      "text/html": [
       "<div>\n",
       "<style scoped>\n",
       "    .dataframe tbody tr th:only-of-type {\n",
       "        vertical-align: middle;\n",
       "    }\n",
       "\n",
       "    .dataframe tbody tr th {\n",
       "        vertical-align: top;\n",
       "    }\n",
       "\n",
       "    .dataframe thead th {\n",
       "        text-align: right;\n",
       "    }\n",
       "</style>\n",
       "<table border=\"1\" class=\"dataframe\">\n",
       "  <thead>\n",
       "    <tr style=\"text-align: right;\">\n",
       "      <th></th>\n",
       "      <th>iso</th>\n",
       "      <th>ioc</th>\n",
       "      <th>continent</th>\n",
       "      <th>olympics_index</th>\n",
       "      <th>sports_index</th>\n",
       "    </tr>\n",
       "  </thead>\n",
       "  <tbody>\n",
       "    <tr>\n",
       "      <th>17</th>\n",
       "      <td>CIV</td>\n",
       "      <td>CIV</td>\n",
       "      <td>NaN</td>\n",
       "      <td>10.795148</td>\n",
       "      <td>17.346961</td>\n",
       "    </tr>\n",
       "    <tr>\n",
       "      <th>42</th>\n",
       "      <td>IRL</td>\n",
       "      <td>IRL</td>\n",
       "      <td>Europe</td>\n",
       "      <td>NaN</td>\n",
       "      <td>NaN</td>\n",
       "    </tr>\n",
       "    <tr>\n",
       "      <th>57</th>\n",
       "      <td>MDA</td>\n",
       "      <td>MDA</td>\n",
       "      <td>NaN</td>\n",
       "      <td>23.559762</td>\n",
       "      <td>10.575437</td>\n",
       "    </tr>\n",
       "    <tr>\n",
       "      <th>59</th>\n",
       "      <td>MKD</td>\n",
       "      <td>MKD</td>\n",
       "      <td>NaN</td>\n",
       "      <td>NaN</td>\n",
       "      <td>NaN</td>\n",
       "    </tr>\n",
       "    <tr>\n",
       "      <th>80</th>\n",
       "      <td>SYR</td>\n",
       "      <td>SYR</td>\n",
       "      <td>NaN</td>\n",
       "      <td>7.750732</td>\n",
       "      <td>16.581705</td>\n",
       "    </tr>\n",
       "    <tr>\n",
       "      <th>91</th>\n",
       "      <td>XKX</td>\n",
       "      <td>KOS</td>\n",
       "      <td>NaN</td>\n",
       "      <td>7.980882</td>\n",
       "      <td>22.469058</td>\n",
       "    </tr>\n",
       "  </tbody>\n",
       "</table>\n",
       "</div>"
      ],
      "text/plain": [
       "    iso  ioc continent  olympics_index  sports_index\n",
       "17  CIV  CIV       NaN       10.795148     17.346961\n",
       "42  IRL  IRL    Europe             NaN           NaN\n",
       "57  MDA  MDA       NaN       23.559762     10.575437\n",
       "59  MKD  MKD       NaN             NaN           NaN\n",
       "80  SYR  SYR       NaN        7.750732     16.581705\n",
       "91  XKX  KOS       NaN        7.980882     22.469058"
      ]
     },
     "execution_count": 8,
     "metadata": {},
     "output_type": "execute_result"
    }
   ],
   "source": [
    "missing_data = data[data['continent'].isnull() | data['olympics_index'].isnull() | data['sports_index'].isnull()]\n",
    "missing_data[['iso','ioc','continent','olympics_index','sports_index']]"
   ]
  },
  {
   "cell_type": "markdown",
   "id": "411418bd-afa5-48c0-b64f-fff2e9d9e92b",
   "metadata": {},
   "source": [
    "### Handling missing values"
   ]
  },
  {
   "cell_type": "markdown",
   "id": "356bd762-9030-4c8b-97cb-f8e153e277d9",
   "metadata": {},
   "source": [
    "Continent data: we can see that the continent data is missing, for more accurate results best approach to handle this data is by **Imputing continent names Manually** for the provided country names.\n",
    "\n",
    "olympics_index and sports_index: as these indices represents countries overall performance in olympics and countries sports infrastucture and support respectivelly, the best approach to fill in is **Imputation Based on Similar Countries** i.e., We could estimate the values based on countries with similar characteristics (e.g., GDP, population, or continent). This approach could provide more accurate imputations by considering factors that influence sports performance and infrastructure."
   ]
  },
  {
   "cell_type": "code",
   "execution_count": 11,
   "id": "43aab9ff-7d30-486c-b049-6fe76a0fdf12",
   "metadata": {
    "tags": []
   },
   "outputs": [
    {
     "data": {
      "text/html": [
       "<div>\n",
       "<style scoped>\n",
       "    .dataframe tbody tr th:only-of-type {\n",
       "        vertical-align: middle;\n",
       "    }\n",
       "\n",
       "    .dataframe tbody tr th {\n",
       "        vertical-align: top;\n",
       "    }\n",
       "\n",
       "    .dataframe thead th {\n",
       "        text-align: right;\n",
       "    }\n",
       "</style>\n",
       "<table border=\"1\" class=\"dataframe\">\n",
       "  <thead>\n",
       "    <tr style=\"text-align: right;\">\n",
       "      <th></th>\n",
       "      <th>iso</th>\n",
       "      <th>ioc</th>\n",
       "      <th>name</th>\n",
       "      <th>continent</th>\n",
       "    </tr>\n",
       "  </thead>\n",
       "  <tbody>\n",
       "    <tr>\n",
       "      <th>17</th>\n",
       "      <td>CIV</td>\n",
       "      <td>CIV</td>\n",
       "      <td>Côte d'Ivoire</td>\n",
       "      <td>Africa</td>\n",
       "    </tr>\n",
       "    <tr>\n",
       "      <th>57</th>\n",
       "      <td>MDA</td>\n",
       "      <td>MDA</td>\n",
       "      <td>Moldova</td>\n",
       "      <td>Europe</td>\n",
       "    </tr>\n",
       "    <tr>\n",
       "      <th>59</th>\n",
       "      <td>MKD</td>\n",
       "      <td>MKD</td>\n",
       "      <td>North Macedonia</td>\n",
       "      <td>Europe</td>\n",
       "    </tr>\n",
       "    <tr>\n",
       "      <th>80</th>\n",
       "      <td>SYR</td>\n",
       "      <td>SYR</td>\n",
       "      <td>Syria</td>\n",
       "      <td>Asia</td>\n",
       "    </tr>\n",
       "    <tr>\n",
       "      <th>91</th>\n",
       "      <td>XKX</td>\n",
       "      <td>KOS</td>\n",
       "      <td>Kosovo</td>\n",
       "      <td>Europe</td>\n",
       "    </tr>\n",
       "  </tbody>\n",
       "</table>\n",
       "</div>"
      ],
      "text/plain": [
       "    iso  ioc             name continent\n",
       "17  CIV  CIV    Côte d'Ivoire    Africa\n",
       "57  MDA  MDA          Moldova    Europe\n",
       "59  MKD  MKD  North Macedonia    Europe\n",
       "80  SYR  SYR            Syria      Asia\n",
       "91  XKX  KOS           Kosovo    Europe"
      ]
     },
     "execution_count": 11,
     "metadata": {},
     "output_type": "execute_result"
    }
   ],
   "source": [
    "# handling the missing values for continent data\n",
    "\n",
    "# Manually assigning the correct continents to the countries with missing values\n",
    "continent_mapping = {\n",
    "    \"CIV\": \"Africa\",         # Côte d'Ivoire\n",
    "    \"MDA\": \"Europe\",         # Moldova\n",
    "    \"MKD\": \"Europe\",         # North Macedonia\n",
    "    \"SYR\": \"Asia\",           # Syria\n",
    "    \"XKX\": \"Europe\"          # Kosovo\n",
    "}\n",
    "\n",
    "# Update the 'continent' column with the correct values\n",
    "for iso_code, continent in continent_mapping.items():\n",
    "    data.loc[data['iso'] == iso_code, 'continent'] = continent\n",
    "\n",
    "# Verify the updates\n",
    "updated_continent_data = data.loc[data['iso'].isin(continent_mapping.keys()), ['iso', 'ioc', 'name', 'continent']]\n",
    "updated_continent_data"
   ]
  },
  {
   "cell_type": "code",
   "execution_count": 12,
   "id": "cdd31d9a-bd0c-450d-a065-a5d08129b400",
   "metadata": {
    "tags": []
   },
   "outputs": [
    {
     "data": {
      "text/html": [
       "<div>\n",
       "<style scoped>\n",
       "    .dataframe tbody tr th:only-of-type {\n",
       "        vertical-align: middle;\n",
       "    }\n",
       "\n",
       "    .dataframe tbody tr th {\n",
       "        vertical-align: top;\n",
       "    }\n",
       "\n",
       "    .dataframe thead th {\n",
       "        text-align: right;\n",
       "    }\n",
       "</style>\n",
       "<table border=\"1\" class=\"dataframe\">\n",
       "  <thead>\n",
       "    <tr style=\"text-align: right;\">\n",
       "      <th></th>\n",
       "      <th>iso</th>\n",
       "      <th>ioc</th>\n",
       "      <th>name</th>\n",
       "      <th>olympics_index</th>\n",
       "      <th>sports_index</th>\n",
       "    </tr>\n",
       "  </thead>\n",
       "  <tbody>\n",
       "    <tr>\n",
       "      <th>42</th>\n",
       "      <td>IRL</td>\n",
       "      <td>IRL</td>\n",
       "      <td>Ireland</td>\n",
       "      <td>11.028701</td>\n",
       "      <td>24.328794</td>\n",
       "    </tr>\n",
       "    <tr>\n",
       "      <th>59</th>\n",
       "      <td>MKD</td>\n",
       "      <td>MKD</td>\n",
       "      <td>North Macedonia</td>\n",
       "      <td>23.229339</td>\n",
       "      <td>10.599504</td>\n",
       "    </tr>\n",
       "  </tbody>\n",
       "</table>\n",
       "</div>"
      ],
      "text/plain": [
       "    iso  ioc             name  olympics_index  sports_index\n",
       "42  IRL  IRL          Ireland       11.028701     24.328794\n",
       "59  MKD  MKD  North Macedonia       23.229339     10.599504"
      ]
     },
     "execution_count": 12,
     "metadata": {},
     "output_type": "execute_result"
    }
   ],
   "source": [
    "# handling the missing values for olympics_index and sports_index using k nearest neighbours\n",
    "\n",
    "from sklearn.impute import KNNImputer\n",
    "\n",
    "# Select the columns to use for finding nearest neighbors\n",
    "# We'll use 'population', 'gdp', and the available indices for imputation\n",
    "imputation_features = ['population', 'gdp', 'olympics_index', 'sports_index']\n",
    "\n",
    "# Initialize the KNN Imputer\n",
    "knn_imputer = KNNImputer(n_neighbors=3)\n",
    "\n",
    "# Perform KNN imputation on the selected columns\n",
    "data[imputation_features] = knn_imputer.fit_transform(data[imputation_features])\n",
    "\n",
    "# Verify the imputed values\n",
    "imputed_indices_values = data.loc[data['iso'].isin(['IRL', 'MKD']), ['iso', 'ioc', 'name', 'olympics_index', 'sports_index']]\n",
    "imputed_indices_values"
   ]
  },
  {
   "cell_type": "markdown",
   "id": "17e2ee07-6c24-4c96-bab9-2b0f6ff75fdb",
   "metadata": {},
   "source": [
    "### Cleaned Data"
   ]
  },
  {
   "cell_type": "markdown",
   "id": "69dc3efb-4708-4c29-bf13-3ff0ac08f3cc",
   "metadata": {},
   "source": [
    "we can see that the colums olympics_index and sports_index has the duplications as olympicsindex and sportsindex respectively.\n",
    "lets drop the other two duplicate columns."
   ]
  },
  {
   "cell_type": "code",
   "execution_count": 15,
   "id": "e50a746a-4bf3-4f02-b044-bc7a498961ba",
   "metadata": {
    "tags": []
   },
   "outputs": [
    {
     "data": {
      "text/html": [
       "<div>\n",
       "<style scoped>\n",
       "    .dataframe tbody tr th:only-of-type {\n",
       "        vertical-align: middle;\n",
       "    }\n",
       "\n",
       "    .dataframe tbody tr th {\n",
       "        vertical-align: top;\n",
       "    }\n",
       "\n",
       "    .dataframe thead th {\n",
       "        text-align: right;\n",
       "    }\n",
       "</style>\n",
       "<table border=\"1\" class=\"dataframe\">\n",
       "  <thead>\n",
       "    <tr style=\"text-align: right;\">\n",
       "      <th></th>\n",
       "      <th>iso</th>\n",
       "      <th>ioc</th>\n",
       "      <th>name</th>\n",
       "      <th>continent</th>\n",
       "      <th>population</th>\n",
       "      <th>gdp</th>\n",
       "      <th>olympics_index</th>\n",
       "      <th>sports_index</th>\n",
       "      <th>total</th>\n",
       "      <th>gold</th>\n",
       "      <th>silver</th>\n",
       "      <th>bronze</th>\n",
       "    </tr>\n",
       "  </thead>\n",
       "  <tbody>\n",
       "    <tr>\n",
       "      <th>0</th>\n",
       "      <td>ARG</td>\n",
       "      <td>ARG</td>\n",
       "      <td>Argentina</td>\n",
       "      <td>South America</td>\n",
       "      <td>45376763.0</td>\n",
       "      <td>3.830670e+11</td>\n",
       "      <td>19.597142</td>\n",
       "      <td>9.324537</td>\n",
       "      <td>3</td>\n",
       "      <td>0</td>\n",
       "      <td>1</td>\n",
       "      <td>2</td>\n",
       "    </tr>\n",
       "    <tr>\n",
       "      <th>1</th>\n",
       "      <td>ARM</td>\n",
       "      <td>ARM</td>\n",
       "      <td>Armenia</td>\n",
       "      <td>Asia</td>\n",
       "      <td>2963234.0</td>\n",
       "      <td>1.264546e+10</td>\n",
       "      <td>19.681457</td>\n",
       "      <td>13.497324</td>\n",
       "      <td>4</td>\n",
       "      <td>0</td>\n",
       "      <td>2</td>\n",
       "      <td>2</td>\n",
       "    </tr>\n",
       "    <tr>\n",
       "      <th>2</th>\n",
       "      <td>AUS</td>\n",
       "      <td>AUS</td>\n",
       "      <td>Australia</td>\n",
       "      <td>Oceania</td>\n",
       "      <td>25687041.0</td>\n",
       "      <td>1.330901e+12</td>\n",
       "      <td>31.170099</td>\n",
       "      <td>11.073845</td>\n",
       "      <td>46</td>\n",
       "      <td>17</td>\n",
       "      <td>7</td>\n",
       "      <td>22</td>\n",
       "    </tr>\n",
       "    <tr>\n",
       "      <th>3</th>\n",
       "      <td>AUT</td>\n",
       "      <td>AUT</td>\n",
       "      <td>Austria</td>\n",
       "      <td>Europe</td>\n",
       "      <td>8917205.0</td>\n",
       "      <td>4.289654e+11</td>\n",
       "      <td>12.212139</td>\n",
       "      <td>15.923033</td>\n",
       "      <td>7</td>\n",
       "      <td>1</td>\n",
       "      <td>1</td>\n",
       "      <td>5</td>\n",
       "    </tr>\n",
       "    <tr>\n",
       "      <th>4</th>\n",
       "      <td>AZE</td>\n",
       "      <td>AZE</td>\n",
       "      <td>Azerbaijan</td>\n",
       "      <td>Europe</td>\n",
       "      <td>10110116.0</td>\n",
       "      <td>4.260718e+10</td>\n",
       "      <td>18.213838</td>\n",
       "      <td>13.103344</td>\n",
       "      <td>7</td>\n",
       "      <td>0</td>\n",
       "      <td>3</td>\n",
       "      <td>4</td>\n",
       "    </tr>\n",
       "    <tr>\n",
       "      <th>...</th>\n",
       "      <td>...</td>\n",
       "      <td>...</td>\n",
       "      <td>...</td>\n",
       "      <td>...</td>\n",
       "      <td>...</td>\n",
       "      <td>...</td>\n",
       "      <td>...</td>\n",
       "      <td>...</td>\n",
       "      <td>...</td>\n",
       "      <td>...</td>\n",
       "      <td>...</td>\n",
       "      <td>...</td>\n",
       "    </tr>\n",
       "    <tr>\n",
       "      <th>88</th>\n",
       "      <td>USA</td>\n",
       "      <td>USA</td>\n",
       "      <td>United States</td>\n",
       "      <td>North America</td>\n",
       "      <td>329484123.0</td>\n",
       "      <td>2.093660e+13</td>\n",
       "      <td>26.161476</td>\n",
       "      <td>9.787943</td>\n",
       "      <td>113</td>\n",
       "      <td>39</td>\n",
       "      <td>41</td>\n",
       "      <td>33</td>\n",
       "    </tr>\n",
       "    <tr>\n",
       "      <th>89</th>\n",
       "      <td>UZB</td>\n",
       "      <td>UZB</td>\n",
       "      <td>Uzbekistan</td>\n",
       "      <td>Asia</td>\n",
       "      <td>34232050.0</td>\n",
       "      <td>5.770719e+10</td>\n",
       "      <td>24.830288</td>\n",
       "      <td>11.631212</td>\n",
       "      <td>5</td>\n",
       "      <td>3</td>\n",
       "      <td>0</td>\n",
       "      <td>2</td>\n",
       "    </tr>\n",
       "    <tr>\n",
       "      <th>90</th>\n",
       "      <td>VEN</td>\n",
       "      <td>VEN</td>\n",
       "      <td>Venezuela</td>\n",
       "      <td>South America</td>\n",
       "      <td>28435943.0</td>\n",
       "      <td>4.824000e+11</td>\n",
       "      <td>25.131676</td>\n",
       "      <td>10.626971</td>\n",
       "      <td>4</td>\n",
       "      <td>1</td>\n",
       "      <td>3</td>\n",
       "      <td>0</td>\n",
       "    </tr>\n",
       "    <tr>\n",
       "      <th>91</th>\n",
       "      <td>XKX</td>\n",
       "      <td>KOS</td>\n",
       "      <td>Kosovo</td>\n",
       "      <td>Europe</td>\n",
       "      <td>1775378.0</td>\n",
       "      <td>7.611402e+09</td>\n",
       "      <td>7.980882</td>\n",
       "      <td>22.469058</td>\n",
       "      <td>2</td>\n",
       "      <td>2</td>\n",
       "      <td>0</td>\n",
       "      <td>0</td>\n",
       "    </tr>\n",
       "    <tr>\n",
       "      <th>92</th>\n",
       "      <td>ZAF</td>\n",
       "      <td>RSA</td>\n",
       "      <td>South Africa</td>\n",
       "      <td>Africa</td>\n",
       "      <td>59308690.0</td>\n",
       "      <td>3.019236e+11</td>\n",
       "      <td>11.494291</td>\n",
       "      <td>14.053474</td>\n",
       "      <td>3</td>\n",
       "      <td>1</td>\n",
       "      <td>2</td>\n",
       "      <td>0</td>\n",
       "    </tr>\n",
       "  </tbody>\n",
       "</table>\n",
       "<p>93 rows × 12 columns</p>\n",
       "</div>"
      ],
      "text/plain": [
       "    iso  ioc           name      continent   population           gdp  \\\n",
       "0   ARG  ARG      Argentina  South America   45376763.0  3.830670e+11   \n",
       "1   ARM  ARM        Armenia           Asia    2963234.0  1.264546e+10   \n",
       "2   AUS  AUS      Australia        Oceania   25687041.0  1.330901e+12   \n",
       "3   AUT  AUT        Austria         Europe    8917205.0  4.289654e+11   \n",
       "4   AZE  AZE     Azerbaijan         Europe   10110116.0  4.260718e+10   \n",
       "..  ...  ...            ...            ...          ...           ...   \n",
       "88  USA  USA  United States  North America  329484123.0  2.093660e+13   \n",
       "89  UZB  UZB     Uzbekistan           Asia   34232050.0  5.770719e+10   \n",
       "90  VEN  VEN      Venezuela  South America   28435943.0  4.824000e+11   \n",
       "91  XKX  KOS         Kosovo         Europe    1775378.0  7.611402e+09   \n",
       "92  ZAF  RSA   South Africa         Africa   59308690.0  3.019236e+11   \n",
       "\n",
       "    olympics_index  sports_index  total  gold  silver  bronze  \n",
       "0        19.597142      9.324537      3     0       1       2  \n",
       "1        19.681457     13.497324      4     0       2       2  \n",
       "2        31.170099     11.073845     46    17       7      22  \n",
       "3        12.212139     15.923033      7     1       1       5  \n",
       "4        18.213838     13.103344      7     0       3       4  \n",
       "..             ...           ...    ...   ...     ...     ...  \n",
       "88       26.161476      9.787943    113    39      41      33  \n",
       "89       24.830288     11.631212      5     3       0       2  \n",
       "90       25.131676     10.626971      4     1       3       0  \n",
       "91        7.980882     22.469058      2     2       0       0  \n",
       "92       11.494291     14.053474      3     1       2       0  \n",
       "\n",
       "[93 rows x 12 columns]"
      ]
     },
     "metadata": {},
     "output_type": "display_data"
    }
   ],
   "source": [
    "cleaned_data = data.copy()\n",
    "\n",
    "cleaned_data.update(updated_continent_data)\n",
    "cleaned_data.update(imputed_indices_values)\n",
    "\n",
    "# Drop duplicate columns\n",
    "final_data = cleaned_data.drop(columns = ['olympicsIndex','sportsIndex'])\n",
    "\n",
    "display(final_data)"
   ]
  },
  {
   "cell_type": "markdown",
   "id": "15bbecb3-2c5c-4353-aa40-be0083c193ca",
   "metadata": {},
   "source": [
    "### verifying the data preprocessing"
   ]
  },
  {
   "cell_type": "code",
   "execution_count": 17,
   "id": "a88a69a8-cebe-47f0-811f-246912975a61",
   "metadata": {
    "tags": []
   },
   "outputs": [
    {
     "name": "stdout",
     "output_type": "stream",
     "text": [
      "Missing Values After Cleaning: \n",
      "iso               0\n",
      "ioc               0\n",
      "name              0\n",
      "continent         0\n",
      "population        0\n",
      "gdp               0\n",
      "olympics_index    0\n",
      "sports_index      0\n",
      "total             0\n",
      "gold              0\n",
      "silver            0\n",
      "bronze            0\n",
      "dtype: int64\n"
     ]
    }
   ],
   "source": [
    "missing_values_after_cleaning = final_data.isnull().sum()\n",
    "print(f\"Missing Values After Cleaning: \\n{missing_values_after_cleaning}\")"
   ]
  },
  {
   "cell_type": "code",
   "execution_count": 18,
   "id": "a88bbd03-05ee-421a-92d9-26a51af8cfd7",
   "metadata": {
    "tags": []
   },
   "outputs": [],
   "source": [
    "final_data.to_csv('final_olympic_data.csv', index=False)"
   ]
  },
  {
   "cell_type": "code",
   "execution_count": 19,
   "id": "de678ff9-846a-4daa-8024-d6d66288ece2",
   "metadata": {},
   "outputs": [
    {
     "data": {
      "text/html": [
       "<div>\n",
       "<style scoped>\n",
       "    .dataframe tbody tr th:only-of-type {\n",
       "        vertical-align: middle;\n",
       "    }\n",
       "\n",
       "    .dataframe tbody tr th {\n",
       "        vertical-align: top;\n",
       "    }\n",
       "\n",
       "    .dataframe thead th {\n",
       "        text-align: right;\n",
       "    }\n",
       "</style>\n",
       "<table border=\"1\" class=\"dataframe\">\n",
       "  <thead>\n",
       "    <tr style=\"text-align: right;\">\n",
       "      <th></th>\n",
       "      <th>iso</th>\n",
       "      <th>ioc</th>\n",
       "      <th>name</th>\n",
       "      <th>continent</th>\n",
       "      <th>population</th>\n",
       "      <th>gdp</th>\n",
       "      <th>olympics_index</th>\n",
       "      <th>sports_index</th>\n",
       "      <th>total</th>\n",
       "      <th>gold</th>\n",
       "      <th>silver</th>\n",
       "      <th>bronze</th>\n",
       "    </tr>\n",
       "  </thead>\n",
       "  <tbody>\n",
       "    <tr>\n",
       "      <th>0</th>\n",
       "      <td>ARG</td>\n",
       "      <td>ARG</td>\n",
       "      <td>Argentina</td>\n",
       "      <td>South America</td>\n",
       "      <td>45376763.0</td>\n",
       "      <td>3.830670e+11</td>\n",
       "      <td>19.597142</td>\n",
       "      <td>9.324537</td>\n",
       "      <td>3</td>\n",
       "      <td>0</td>\n",
       "      <td>1</td>\n",
       "      <td>2</td>\n",
       "    </tr>\n",
       "    <tr>\n",
       "      <th>1</th>\n",
       "      <td>ARM</td>\n",
       "      <td>ARM</td>\n",
       "      <td>Armenia</td>\n",
       "      <td>Asia</td>\n",
       "      <td>2963234.0</td>\n",
       "      <td>1.264546e+10</td>\n",
       "      <td>19.681457</td>\n",
       "      <td>13.497324</td>\n",
       "      <td>4</td>\n",
       "      <td>0</td>\n",
       "      <td>2</td>\n",
       "      <td>2</td>\n",
       "    </tr>\n",
       "    <tr>\n",
       "      <th>2</th>\n",
       "      <td>AUS</td>\n",
       "      <td>AUS</td>\n",
       "      <td>Australia</td>\n",
       "      <td>Oceania</td>\n",
       "      <td>25687041.0</td>\n",
       "      <td>1.330901e+12</td>\n",
       "      <td>31.170099</td>\n",
       "      <td>11.073845</td>\n",
       "      <td>46</td>\n",
       "      <td>17</td>\n",
       "      <td>7</td>\n",
       "      <td>22</td>\n",
       "    </tr>\n",
       "    <tr>\n",
       "      <th>3</th>\n",
       "      <td>AUT</td>\n",
       "      <td>AUT</td>\n",
       "      <td>Austria</td>\n",
       "      <td>Europe</td>\n",
       "      <td>8917205.0</td>\n",
       "      <td>4.289654e+11</td>\n",
       "      <td>12.212139</td>\n",
       "      <td>15.923033</td>\n",
       "      <td>7</td>\n",
       "      <td>1</td>\n",
       "      <td>1</td>\n",
       "      <td>5</td>\n",
       "    </tr>\n",
       "    <tr>\n",
       "      <th>4</th>\n",
       "      <td>AZE</td>\n",
       "      <td>AZE</td>\n",
       "      <td>Azerbaijan</td>\n",
       "      <td>Europe</td>\n",
       "      <td>10110116.0</td>\n",
       "      <td>4.260718e+10</td>\n",
       "      <td>18.213838</td>\n",
       "      <td>13.103344</td>\n",
       "      <td>7</td>\n",
       "      <td>0</td>\n",
       "      <td>3</td>\n",
       "      <td>4</td>\n",
       "    </tr>\n",
       "  </tbody>\n",
       "</table>\n",
       "</div>"
      ],
      "text/plain": [
       "   iso  ioc        name      continent  population           gdp  \\\n",
       "0  ARG  ARG   Argentina  South America  45376763.0  3.830670e+11   \n",
       "1  ARM  ARM     Armenia           Asia   2963234.0  1.264546e+10   \n",
       "2  AUS  AUS   Australia        Oceania  25687041.0  1.330901e+12   \n",
       "3  AUT  AUT     Austria         Europe   8917205.0  4.289654e+11   \n",
       "4  AZE  AZE  Azerbaijan         Europe  10110116.0  4.260718e+10   \n",
       "\n",
       "   olympics_index  sports_index  total  gold  silver  bronze  \n",
       "0       19.597142      9.324537      3     0       1       2  \n",
       "1       19.681457     13.497324      4     0       2       2  \n",
       "2       31.170099     11.073845     46    17       7      22  \n",
       "3       12.212139     15.923033      7     1       1       5  \n",
       "4       18.213838     13.103344      7     0       3       4  "
      ]
     },
     "metadata": {},
     "output_type": "display_data"
    },
    {
     "name": "stdout",
     "output_type": "stream",
     "text": [
      "(93, 12)\n"
     ]
    }
   ],
   "source": [
    "display(final_data.head())\n",
    "print(final_data.shape)"
   ]
  },
  {
   "cell_type": "markdown",
   "id": "5229d6cd-f09b-48d3-94e9-c1156b071d3b",
   "metadata": {},
   "source": [
    "# Exploratory Data Analysis (EDA)"
   ]
  },
  {
   "cell_type": "code",
   "execution_count": 21,
   "id": "b849ff14-df97-4a1a-8870-7107fa119b1e",
   "metadata": {
    "tags": []
   },
   "outputs": [
    {
     "name": "stdout",
     "output_type": "stream",
     "text": [
      "<class 'pandas.core.frame.DataFrame'>\n",
      "RangeIndex: 93 entries, 0 to 92\n",
      "Data columns (total 12 columns):\n",
      " #   Column          Non-Null Count  Dtype  \n",
      "---  ------          --------------  -----  \n",
      " 0   iso             93 non-null     object \n",
      " 1   ioc             93 non-null     object \n",
      " 2   name            93 non-null     object \n",
      " 3   continent       93 non-null     object \n",
      " 4   population      93 non-null     float64\n",
      " 5   gdp             93 non-null     float64\n",
      " 6   olympics_index  93 non-null     float64\n",
      " 7   sports_index    93 non-null     float64\n",
      " 8   total           93 non-null     int64  \n",
      " 9   gold            93 non-null     int64  \n",
      " 10  silver          93 non-null     int64  \n",
      " 11  bronze          93 non-null     int64  \n",
      "dtypes: float64(4), int64(4), object(4)\n",
      "memory usage: 8.8+ KB\n"
     ]
    },
    {
     "data": {
      "text/plain": [
       "None"
      ]
     },
     "metadata": {},
     "output_type": "display_data"
    },
    {
     "data": {
      "text/html": [
       "<div>\n",
       "<style scoped>\n",
       "    .dataframe tbody tr th:only-of-type {\n",
       "        vertical-align: middle;\n",
       "    }\n",
       "\n",
       "    .dataframe tbody tr th {\n",
       "        vertical-align: top;\n",
       "    }\n",
       "\n",
       "    .dataframe thead th {\n",
       "        text-align: right;\n",
       "    }\n",
       "</style>\n",
       "<table border=\"1\" class=\"dataframe\">\n",
       "  <thead>\n",
       "    <tr style=\"text-align: right;\">\n",
       "      <th></th>\n",
       "      <th>population</th>\n",
       "      <th>gdp</th>\n",
       "      <th>olympics_index</th>\n",
       "      <th>sports_index</th>\n",
       "      <th>total</th>\n",
       "      <th>gold</th>\n",
       "      <th>silver</th>\n",
       "      <th>bronze</th>\n",
       "    </tr>\n",
       "  </thead>\n",
       "  <tbody>\n",
       "    <tr>\n",
       "      <th>count</th>\n",
       "      <td>9.300000e+01</td>\n",
       "      <td>9.300000e+01</td>\n",
       "      <td>93.000000</td>\n",
       "      <td>93.000000</td>\n",
       "      <td>93.000000</td>\n",
       "      <td>93.000000</td>\n",
       "      <td>93.000000</td>\n",
       "      <td>93.000000</td>\n",
       "    </tr>\n",
       "    <tr>\n",
       "      <th>mean</th>\n",
       "      <td>6.639237e+07</td>\n",
       "      <td>8.668410e+11</td>\n",
       "      <td>20.601112</td>\n",
       "      <td>16.353668</td>\n",
       "      <td>11.612903</td>\n",
       "      <td>3.655914</td>\n",
       "      <td>3.634409</td>\n",
       "      <td>4.322581</td>\n",
       "    </tr>\n",
       "    <tr>\n",
       "      <th>std</th>\n",
       "      <td>2.057474e+08</td>\n",
       "      <td>2.702387e+12</td>\n",
       "      <td>12.536290</td>\n",
       "      <td>8.894591</td>\n",
       "      <td>19.091332</td>\n",
       "      <td>7.022471</td>\n",
       "      <td>6.626339</td>\n",
       "      <td>6.210372</td>\n",
       "    </tr>\n",
       "    <tr>\n",
       "      <th>min</th>\n",
       "      <td>3.393800e+04</td>\n",
       "      <td>0.000000e+00</td>\n",
       "      <td>1.000000</td>\n",
       "      <td>7.396478</td>\n",
       "      <td>1.000000</td>\n",
       "      <td>0.000000</td>\n",
       "      <td>0.000000</td>\n",
       "      <td>0.000000</td>\n",
       "    </tr>\n",
       "    <tr>\n",
       "      <th>25%</th>\n",
       "      <td>4.994724e+06</td>\n",
       "      <td>4.369766e+10</td>\n",
       "      <td>12.298004</td>\n",
       "      <td>10.626971</td>\n",
       "      <td>2.000000</td>\n",
       "      <td>0.000000</td>\n",
       "      <td>0.000000</td>\n",
       "      <td>1.000000</td>\n",
       "    </tr>\n",
       "    <tr>\n",
       "      <th>50%</th>\n",
       "      <td>1.132662e+07</td>\n",
       "      <td>1.698354e+11</td>\n",
       "      <td>18.783582</td>\n",
       "      <td>13.931504</td>\n",
       "      <td>4.000000</td>\n",
       "      <td>1.000000</td>\n",
       "      <td>1.000000</td>\n",
       "      <td>2.000000</td>\n",
       "    </tr>\n",
       "    <tr>\n",
       "      <th>75%</th>\n",
       "      <td>4.735157e+07</td>\n",
       "      <td>5.153325e+11</td>\n",
       "      <td>26.037386</td>\n",
       "      <td>19.054643</td>\n",
       "      <td>11.000000</td>\n",
       "      <td>3.000000</td>\n",
       "      <td>4.000000</td>\n",
       "      <td>5.000000</td>\n",
       "    </tr>\n",
       "    <tr>\n",
       "      <th>max</th>\n",
       "      <td>1.402112e+09</td>\n",
       "      <td>2.093660e+13</td>\n",
       "      <td>100.000000</td>\n",
       "      <td>72.227313</td>\n",
       "      <td>113.000000</td>\n",
       "      <td>39.000000</td>\n",
       "      <td>41.000000</td>\n",
       "      <td>33.000000</td>\n",
       "    </tr>\n",
       "  </tbody>\n",
       "</table>\n",
       "</div>"
      ],
      "text/plain": [
       "         population           gdp  olympics_index  sports_index       total  \\\n",
       "count  9.300000e+01  9.300000e+01       93.000000     93.000000   93.000000   \n",
       "mean   6.639237e+07  8.668410e+11       20.601112     16.353668   11.612903   \n",
       "std    2.057474e+08  2.702387e+12       12.536290      8.894591   19.091332   \n",
       "min    3.393800e+04  0.000000e+00        1.000000      7.396478    1.000000   \n",
       "25%    4.994724e+06  4.369766e+10       12.298004     10.626971    2.000000   \n",
       "50%    1.132662e+07  1.698354e+11       18.783582     13.931504    4.000000   \n",
       "75%    4.735157e+07  5.153325e+11       26.037386     19.054643   11.000000   \n",
       "max    1.402112e+09  2.093660e+13      100.000000     72.227313  113.000000   \n",
       "\n",
       "            gold     silver     bronze  \n",
       "count  93.000000  93.000000  93.000000  \n",
       "mean    3.655914   3.634409   4.322581  \n",
       "std     7.022471   6.626339   6.210372  \n",
       "min     0.000000   0.000000   0.000000  \n",
       "25%     0.000000   0.000000   1.000000  \n",
       "50%     1.000000   1.000000   2.000000  \n",
       "75%     3.000000   4.000000   5.000000  \n",
       "max    39.000000  41.000000  33.000000  "
      ]
     },
     "metadata": {},
     "output_type": "display_data"
    }
   ],
   "source": [
    "# basic information about the dataset\n",
    "basic_info = final_data.info()\n",
    "\n",
    "# summary statistics for numerical columns\n",
    "summary_stats = final_data.describe()\n",
    "\n",
    "display(basic_info)\n",
    "display(summary_stats)"
   ]
  },
  {
   "cell_type": "markdown",
   "id": "e3b6b66b-4493-46f9-a71e-d8f5e775b94b",
   "metadata": {},
   "source": [
    "## Visualization"
   ]
  },
  {
   "cell_type": "code",
   "execution_count": 23,
   "id": "214a6127-ed82-4e70-9688-ba16f15816c5",
   "metadata": {
    "tags": []
   },
   "outputs": [
    {
     "data": {
      "image/png": "[encoded data removed]",
      "text/plain": [
       "<Figure size 1000x600 with 1 Axes>"
      ]
     },
     "metadata": {},
     "output_type": "display_data"
    },
    {
     "name": "stderr",
     "output_type": "stream",
     "text": [
      "/var/folders/15/1gd1k95s4lq076l4hfflpdqh0000gn/T/ipykernel_97294/1672646435.py:18: FutureWarning: \n",
      "\n",
      "Passing `palette` without assigning `hue` is deprecated and will be removed in v0.14.0. Assign the `x` variable to `hue` and set `legend=False` for the same effect.\n",
      "\n",
      "  sns.boxplot(x='continent', y='total', data=final_data, palette='Set3')\n"
     ]
    },
    {
     "data": {
      "image/png": "[encoded data removed]",
      "text/plain": [
       "<Figure size 1000x600 with 1 Axes>"
      ]
     },
     "metadata": {},
     "output_type": "display_data"
    },
    {
     "data": {
      "image/png": "[encoded data removed]",
      "text/plain": [
       "<Figure size 1000x600 with 1 Axes>"
      ]
     },
     "metadata": {},
     "output_type": "display_data"
    },
    {
     "data": {
      "image/png": "[encoded data removed]",
      "text/plain": [
       "<Figure size 1200x800 with 2 Axes>"
      ]
     },
     "metadata": {},
     "output_type": "display_data"
    }
   ],
   "source": [
    "import matplotlib.pyplot as plt\n",
    "import seaborn as sns\n",
    "\n",
    "# Setting up the visual style\n",
    "sns.set(style=\"whitegrid\")\n",
    "\n",
    "# Visualization 1: Distribution of Total Medals\n",
    "plt.figure(figsize=(10, 6))\n",
    "sns.histplot(final_data['total'], bins=20, kde=True, color='skyblue')\n",
    "plt.title('Distribution of Total Medals Won by Countries')\n",
    "plt.xlabel('Total Medals')\n",
    "plt.ylabel('Frequency')\n",
    "plt.savefig('total_medals_distribution.png')\n",
    "plt.show()\n",
    "\n",
    "# Visualization 2: Medal Count by Continent\n",
    "plt.figure(figsize=(10, 6))\n",
    "sns.boxplot(x='continent', y='total', data=final_data, palette='Set3')\n",
    "plt.title('Total Medals Won by Continent')\n",
    "plt.xlabel('Continent')\n",
    "plt.ylabel('Total Medals')\n",
    "plt.savefig('medals_by_continent.png')\n",
    "plt.show()\n",
    "\n",
    "# Visualization 3: GDP vs Total Medals\n",
    "plt.figure(figsize=(10, 6))\n",
    "sns.scatterplot(x='gdp', y='total', hue='continent', size='population', sizes=(20, 200), data=final_data, palette='muted')\n",
    "plt.title('GDP vs Total Medals Won (Size represents Population)')\n",
    "plt.xlabel('GDP (in USD)')\n",
    "plt.ylabel('Total Medals')\n",
    "plt.xscale('log')\n",
    "plt.savefig('gdp_vs_medals.png')\n",
    "plt.show()\n",
    "\n",
    "# Visualization 4: Correlation Matrix Heatmap\n",
    "import seaborn as sns\n",
    "import matplotlib.pyplot as plt\n",
    "\n",
    "plt.figure(figsize=(12, 8))\n",
    "numeric_data = final_data.select_dtypes(include=[float, int]) # Select only numeric columns\n",
    "sns.heatmap(numeric_data.corr(), annot=True, cmap='coolwarm', fmt=\".2f\", linewidths=0.5)\n",
    "plt.title('Correlation Matrix')\n",
    "plt.savefig('correlation_matrix.png')\n",
    "\n",
    "plt.show()"
   ]
  },
  {
   "cell_type": "markdown",
   "id": "ec566e17-12ab-4989-b44f-b9a0ba8fa790",
   "metadata": {},
   "source": [
    "# Machine Learning (ML)"
   ]
  },
  {
   "cell_type": "markdown",
   "id": "ea75897a-7dbb-43d7-af6c-643af15ff0a5",
   "metadata": {},
   "source": [
    "## Simple Linear Regression"
   ]
  },
  {
   "cell_type": "code",
   "execution_count": 27,
   "id": "5beb7241-fe42-4b97-986a-b247a6bdc81c",
   "metadata": {
    "tags": []
   },
   "outputs": [
    {
     "data": {
      "text/plain": [
       "{'population': {'MAE': 7.008637862785955,\n",
       "  'MSE': 60.70659047680391,\n",
       "  'R²': -0.7854879552001148},\n",
       " 'gdp': {'MAE': 4.5092521791382545,\n",
       "  'MSE': 28.193682977780412,\n",
       "  'R²': 0.17077403006528202},\n",
       " 'olympics_index': {'MAE': 6.428447582161319,\n",
       "  'MSE': 57.53209434998183,\n",
       "  'R²': -0.692120422058289},\n",
       " 'sports_index': {'MAE': 8.601373364826124,\n",
       "  'MSE': 89.75699706356454,\n",
       "  'R²': -1.6399116783401335}}"
      ]
     },
     "execution_count": 27,
     "metadata": {},
     "output_type": "execute_result"
    }
   ],
   "source": [
    "# Initializing a dictionary to store the results for different features\n",
    "simple_linear_regression_results = {}\n",
    "\n",
    "# List of features to test\n",
    "features = ['population', 'gdp', 'olympics_index', 'sports_index']\n",
    "\n",
    "# Loop through each feature, create a simple linear regression model, and evaluate it\n",
    "for feature in features:\n",
    "    X_feature = final_data[[feature]]\n",
    "    y = final_data['total']\n",
    "    \n",
    "    # Split the data into training and testing sets\n",
    "    X_train_feat, X_test_feat, y_train_feat, y_test_feat = train_test_split(X_feature, y, test_size=0.2, random_state=42)\n",
    "    \n",
    "    # Create and train the simple linear regression model\n",
    "    simple_linear_regression = LinearRegression()\n",
    "    simple_linear_regression.fit(X_train_feat, y_train_feat)\n",
    "    \n",
    "    # Predict on the test data\n",
    "    y_pred_feat = simple_linear_regression.predict(X_test_feat)\n",
    "    \n",
    "    # Evaluate the model\n",
    "    mae_feat = mean_absolute_error(y_test_feat, y_pred_feat)\n",
    "    mse_feat = mean_squared_error(y_test_feat, y_pred_feat)\n",
    "    r2_feat = r2_score(y_test_feat, y_pred_feat)\n",
    "    \n",
    "    # Store the results\n",
    "    simple_linear_regression_results[feature] = {'MAE': mae_feat,'MSE':mse_feat, 'R²': r2_feat}\n",
    "\n",
    "simple_linear_regression_results"
   ]
  },
  {
   "cell_type": "markdown",
   "id": "5db834e1-b7e4-4b0d-b5b6-fffbda01c302",
   "metadata": {},
   "source": [
    "Interpretation:\n",
    "- GDP appears to be the best single predictor among the features, with a positive R² value, though the overall predictive power is still limited.\n",
    "- Population and Olympics Index have slightly better performance than Sports Index, but they still do not explain much of the variance."
   ]
  },
  {
   "cell_type": "markdown",
   "id": "7025ca3d-4148-4adc-9a50-011eb433ed91",
   "metadata": {},
   "source": [
    "## Multiple Linear Regression"
   ]
  },
  {
   "cell_type": "code",
   "execution_count": 30,
   "id": "f941da82-1b07-463d-a92d-9a679b89b901",
   "metadata": {
    "tags": []
   },
   "outputs": [
    {
     "name": "stdout",
     "output_type": "stream",
     "text": [
      "Mean Absolute Error (Multiple Linear Regression): 4.18323382956467\n",
      "Mean Squared Error (Multiple Linear Regression): 27.676280005250742\n",
      "R2 (Multiple Linear Regression): 0.18599176455144872\n"
     ]
    }
   ],
   "source": [
    "# Select a combination of features for multiple linear regression\n",
    "X_combined = final_data[['population', 'gdp', 'olympics_index', 'sports_index']]\n",
    "y = final_data['total']\n",
    "\n",
    "# Split the data into training and testing sets\n",
    "X_train_combined, X_test_combined, y_train_combined, y_test_combined = train_test_split(X_combined, y, test_size=0.2, random_state=42)\n",
    "\n",
    "# Create and train the multiple linear regression model\n",
    "multiple_linear_regression = LinearRegression()\n",
    "multiple_linear_regression.fit(X_train_combined, y_train_combined)\n",
    "\n",
    "# Predict on the test data\n",
    "y_pred_combined = multiple_linear_regression.predict(X_test_combined)\n",
    "\n",
    "# Evaluate the multiple linear regression model\n",
    "mae_combined = mean_absolute_error(y_test_combined, y_pred_combined)\n",
    "mse_combined = mean_squared_error(y_test_combined, y_pred_combined)\n",
    "r2_combined = r2_score(y_test_combined, y_pred_combined)\n",
    "\n",
    "print(f\"Mean Absolute Error (Multiple Linear Regression): {mae_combined}\")\n",
    "print(f\"Mean Squared Error (Multiple Linear Regression): {mse_combined}\")\n",
    "print(f\"R2 (Multiple Linear Regression): {r2_combined}\")"
   ]
  },
  {
   "cell_type": "markdown",
   "id": "04831051-dc8e-4d31-97f9-28975ec198ea",
   "metadata": {},
   "source": [
    "Interpretation:\n",
    "1. Improved MAE: The MAE has improved compared to the individual feature models, indicating that the combined model is more accurate in predicting the total number of medals.\n",
    "2. Positive R² Score: The R² score of 0.19 suggests that the combined model explains around 19% of the variance in the total number of medals, which is an improvement over the individual models but still leaves a lot of unexplained variance.\n",
    "\n",
    "Conclusion:\n",
    "- The multiple linear regression model using a combination of features provides a better fit and more accurate predictions than models using single features alone. However, the relatively low R² score indicates that there may be other important factors not captured by the current features."
   ]
  },
  {
   "cell_type": "markdown",
   "id": "019315a1-15b4-4844-9a3c-6dfc375357d7",
   "metadata": {},
   "source": [
    "## Decision Tree Regression"
   ]
  },
  {
   "cell_type": "code",
   "execution_count": 33,
   "id": "e3275581-50bf-4a09-82e0-95b770c5bf6e",
   "metadata": {
    "tags": []
   },
   "outputs": [
    {
     "name": "stdout",
     "output_type": "stream",
     "text": [
      "Mean Absolute Error (Decision Tree): 6.7368421052631575\n",
      "Mean Squared Error (Decision Tree): 178.31578947368422\n",
      "R2 (Decision Tree): -4.244582043343653\n"
     ]
    }
   ],
   "source": [
    "import pandas as pd\n",
    "from sklearn.model_selection import train_test_split\n",
    "from sklearn.tree import DecisionTreeRegressor\n",
    "from sklearn.metrics import mean_absolute_error, r2_score\n",
    "\n",
    "# Select a combination of features for decision tree regression\n",
    "X = final_data[['population', 'gdp', 'olympics_index', 'sports_index']]\n",
    "y = final_data['total']\n",
    "\n",
    "# Split the data into training and testing sets\n",
    "X_train, X_test, y_train, y_test = train_test_split(X, y, test_size=0.2, random_state=42)\n",
    "\n",
    "# Create a decision tree regression model\n",
    "tree_model = DecisionTreeRegressor(random_state=42)\n",
    "\n",
    "# Train the decision tree model using the combined features\n",
    "tree_model.fit(X_train, y_train)\n",
    "\n",
    "# Predict on the test data\n",
    "y_pred_tree = tree_model.predict(X_test)\n",
    "\n",
    "# Evaluate the decision tree model\n",
    "mae_tree = mean_absolute_error(y_test, y_pred_tree)\n",
    "mse_tree = mean_squared_error(y_test, y_pred_tree)\n",
    "r2_tree = r2_score(y_test, y_pred_tree)\n",
    "\n",
    "print(f\"Mean Absolute Error (Decision Tree): {mae_tree}\")\n",
    "print(f\"Mean Squared Error (Decision Tree): {mse_tree}\")\n",
    "print(f\"R2 (Decision Tree): {r2_tree}\")"
   ]
  },
  {
   "cell_type": "markdown",
   "id": "35883498-f364-4297-a7e2-6cddc6b64576",
   "metadata": {},
   "source": [
    "The negative R² score suggests that the model is performing poorly, significantly worse than a simple mean prediction. This indicates that the decision tree model is overfitting to the training data and is not generalizing well to the test data.\n",
    "\n",
    "Interpretation:\n",
    "1. Overfitting: The decision tree model may have learned the training data too well, capturing noise rather than the underlying pattern. This often leads to poor performance on unseen data.\n",
    "2. Non-linear Relationships: Although decision trees can model non-linear relationships, the current setup might not be optimal for this dataset, leading to poor generalization."
   ]
  },
  {
   "cell_type": "markdown",
   "id": "f77890cc-5987-4067-97ee-fb454ce51bc7",
   "metadata": {},
   "source": [
    "## Random Forest Regression"
   ]
  },
  {
   "cell_type": "code",
   "execution_count": 36,
   "id": "ca36c995-cfba-4244-82df-9f1f9b9f548a",
   "metadata": {
    "tags": []
   },
   "outputs": [
    {
     "name": "stdout",
     "output_type": "stream",
     "text": [
      "Mean Absolute Error (Random Forest): 6.002631578947368\n",
      "Mean Squared Error (Random Forest): 92.78544736842105\n",
      "R2 (Random Forest): -1.7289837461300306\n"
     ]
    }
   ],
   "source": [
    "from sklearn.model_selection import train_test_split\n",
    "from sklearn.ensemble import RandomForestRegressor\n",
    "from sklearn.metrics import mean_absolute_error, r2_score\n",
    "\n",
    "features = data[['gdp', 'population','olympics_index','sports_index']]\n",
    "target = data['total']\n",
    "\n",
    "# Split the data into training and testing sets\n",
    "X_train, X_test, y_train, y_test = train_test_split(features, target, test_size=0.2, random_state=42)\n",
    "\n",
    "# Initialize and train the random forest regression model\n",
    "forest_model = RandomForestRegressor(n_estimators=100, random_state=42)\n",
    "forest_model.fit(X_train, y_train)\n",
    "\n",
    "# Make predictions on the test set\n",
    "y_forest_pred = forest_model.predict(X_test)\n",
    "\n",
    "# Evaluate the random forest model's performance\n",
    "mae_forest = mean_absolute_error(y_test, y_forest_pred)\n",
    "mse_forest = mean_squared_error(y_test, y_forest_pred)\n",
    "r2_forest = r2_score(y_test, y_forest_pred)\n",
    "\n",
    "print(f\"Mean Absolute Error (Random Forest): {mae_forest}\")\n",
    "print(f\"Mean Squared Error (Random Forest): {mse_forest}\")\n",
    "print(f\"R2 (Random Forest): {r2_forest}\")"
   ]
  },
  {
   "cell_type": "markdown",
   "id": "f1e2c348-23d8-480d-aba0-e829528af2c1",
   "metadata": {
    "editable": true,
    "slideshow": {
     "slide_type": ""
    },
    "tags": []
   },
   "source": [
    "Interpretation:\n",
    "1. Improved MAE: The MAE of 5.55 is an improvement over the decision tree model's MAE of 7.47, indicating that the random forest model is more accurate in predicting the total number of medals.\n",
    "2. Negative R² Score: The R² score is still negative (-1.44), which suggests that while the model has improved in accuracy, it is still not generalizing well to the test data. This could indicate that the model may still be overfitting or that the features used are not sufficiently capturing the underlying patterns."
   ]
  },
  {
   "cell_type": "markdown",
   "id": "639ef8b7-131f-4ee9-8567-998fdde5f49a",
   "metadata": {},
   "source": [
    "# Deep Learning"
   ]
  },
  {
   "cell_type": "markdown",
   "id": "27c6928e-ac18-4825-b383-0df5bd41d83d",
   "metadata": {
    "editable": true,
    "slideshow": {
     "slide_type": ""
    },
    "tags": []
   },
   "source": [
    "## feed forward neural network"
   ]
  },
  {
   "cell_type": "code",
   "execution_count": 40,
   "id": "d355b56b-4c67-4c21-a2ed-2475cf8c2634",
   "metadata": {
    "editable": true,
    "slideshow": {
     "slide_type": ""
    },
    "tags": []
   },
   "outputs": [],
   "source": [
    "import tensorflow as tf\n",
    "from tensorflow.keras.models import Sequential\n",
    "from tensorflow.keras.layers import Dense\n",
    "from sklearn.preprocessing import StandardScaler\n",
    "from sklearn.metrics import mean_absolute_error, r2_score"
   ]
  },
  {
   "cell_type": "markdown",
   "id": "95e5dc15-ed20-4e84-bba8-a590e0fcd4f7",
   "metadata": {},
   "source": [
    "### Model Building"
   ]
  },
  {
   "cell_type": "code",
   "execution_count": 42,
   "id": "a3a19862-87b7-4ffc-94ff-47875ddafcd6",
   "metadata": {},
   "outputs": [
    {
     "name": "stderr",
     "output_type": "stream",
     "text": [
      "2024-08-28 19:10:39.383459: W tensorflow/tsl/platform/profile_utils/cpu_utils.cc:128] Failed to get CPU frequency: 0 Hz\n"
     ]
    },
    {
     "name": "stdout",
     "output_type": "stream",
     "text": [
      "1/1 [==============================] - 0s 21ms/step\n",
      "MAE: 5.361676467092414, MSE:62.93816187826007, R-squared: -0.8511224081841198\n"
     ]
    }
   ],
   "source": [
    "# simple feedforward neural network with two hidden layers\n",
    "\n",
    "# normalizing the Data\n",
    "scaler = StandardScaler()\n",
    "X_train_scaled = scaler.fit_transform(X_train)\n",
    "X_test_scaled = scaler.transform(X_test)\n",
    "\n",
    "dl_model1 = Sequential([\n",
    "    Dense(64, input_shape=(X_train_scaled.shape[1],), activation='relu'),\n",
    "    Dense(32, activation='relu'),\n",
    "    Dense(1)  # Output layer for regression\n",
    "])\n",
    "\n",
    "# Compiling the model\n",
    "dl_model1.compile(optimizer='adam', loss='mean_absolute_error')\n",
    "\n",
    "# Training the Model\n",
    "history = dl_model1.fit(X_train_scaled, y_train, epochs=50, validation_split=0.2, verbose=0)\n",
    "\n",
    "# Evaluate the Model\n",
    "y_nn_pred = dl_model1.predict(X_test_scaled)\n",
    "\n",
    "# Calculating Performance Metrics\n",
    "nn_mae = mean_absolute_error(y_test, y_nn_pred)\n",
    "nn_mse = mean_squared_error(y_test, y_nn_pred)\n",
    "nn_r_squared = r2_score(y_test, y_nn_pred)\n",
    "\n",
    "print(f'MAE: {nn_mae}, MSE:{nn_mse}, R-squared: {nn_r_squared}')"
   ]
  },
  {
   "cell_type": "markdown",
   "id": "789420d0-6a68-4d34-9f48-2c257770b471",
   "metadata": {},
   "source": [
    "### Experimenting with different architectures"
   ]
  },
  {
   "cell_type": "code",
   "execution_count": 44,
   "id": "5e5502d1-f1b4-4711-bdfb-8da79f9fdb95",
   "metadata": {},
   "outputs": [
    {
     "name": "stdout",
     "output_type": "stream",
     "text": [
      "1/1 [==============================] - 0s 14ms/step\n",
      "MAE: 4.3178707423963045, MSE:50.5747628370432, R-squared: -0.48749302461891775\n"
     ]
    }
   ],
   "source": [
    "# 3 hidden layers and modified nurons\n",
    "\n",
    "dl_model2 = Sequential([\n",
    "    Dense(128, activation='relu', input_shape=(X_train_scaled.shape[1],)),\n",
    "    Dense(64, activation='relu'),\n",
    "    Dense(32, activation='relu'),\n",
    "    Dense(1)\n",
    "])\n",
    "\n",
    "# Compiling the model\n",
    "dl_model2.compile(optimizer='adam', loss='mean_absolute_error')\n",
    "\n",
    "# Training the Model\n",
    "history = dl_model2.fit(X_train_scaled, y_train, epochs=50, validation_split=0.2, verbose=0)\n",
    "\n",
    "# Evaluate the Model\n",
    "y_nn_pred = dl_model2.predict(X_test_scaled)\n",
    "\n",
    "# Calculating Performance Metrics\n",
    "nn_mae = mean_absolute_error(y_test, y_nn_pred)\n",
    "nn_mse = mean_squared_error(y_test, y_nn_pred)\n",
    "nn_r_squared = r2_score(y_test, y_nn_pred)\n",
    "\n",
    "print(f'MAE: {nn_mae}, MSE:{nn_mse}, R-squared: {nn_r_squared}')"
   ]
  },
  {
   "cell_type": "markdown",
   "id": "308e1606-9367-4925-a3f3-0f1b15401cd9",
   "metadata": {},
   "source": [
    "### Hyperparameter Tuning"
   ]
  },
  {
   "cell_type": "code",
   "execution_count": 46,
   "id": "1d4a890c-59c2-4e09-ad2b-e6baf4078dee",
   "metadata": {},
   "outputs": [
    {
     "name": "stderr",
     "output_type": "stream",
     "text": [
      "WARNING:absl:At this time, the v2.11+ optimizer `tf.keras.optimizers.Adam` runs slowly on M1/M2 Macs, please use the legacy Keras optimizer instead, located at `tf.keras.optimizers.legacy.Adam`.\n",
      "WARNING:absl:There is a known slowdown when using v2.11+ Keras optimizers on M1/M2 Macs. Falling back to the legacy Keras optimizer, i.e., `tf.keras.optimizers.legacy.Adam`.\n"
     ]
    },
    {
     "name": "stdout",
     "output_type": "stream",
     "text": [
      "1/1 [==============================] - 0s 14ms/step\n",
      "MAE: 3.9112980867687024, MSE:34.29821816916354, R-squared: -0.00877112262245694\n"
     ]
    }
   ],
   "source": [
    "# Modifying Learning Rate and epochs\n",
    "\n",
    "dl_model3 = Sequential([\n",
    "    Dense(128, input_shape=(X_train_scaled.shape[1],), activation='relu'),\n",
    "    Dense(64, activation='relu'),\n",
    "    Dense(32, activation='relu'),\n",
    "    Dense(1)\n",
    "])\n",
    "\n",
    "from tensorflow.keras.optimizers import Adam\n",
    "\n",
    "# Define a custom optimizer with a different learning rate\n",
    "custom_optimizer = Adam(learning_rate=0.001)\n",
    "\n",
    "dl_model3.compile(optimizer=custom_optimizer, loss='mean_absolute_error')\n",
    "\n",
    "# Training the Model\n",
    "history = dl_model3.fit(X_train_scaled, y_train, epochs=120, validation_split=0.2, verbose=0)\n",
    "\n",
    "# Evaluate the Model\n",
    "y_nn_pred = dl_model3.predict(X_test_scaled)\n",
    "\n",
    "# Calculating Performance Metrics\n",
    "nn_mae = mean_absolute_error(y_test, y_nn_pred)\n",
    "nn_mse = mean_squared_error(y_test, y_nn_pred)\n",
    "nn_r_squared = r2_score(y_test, y_nn_pred)\n",
    "\n",
    "print(f'MAE: {nn_mae}, MSE:{nn_mse}, R-squared: {nn_r_squared}')"
   ]
  },
  {
   "cell_type": "markdown",
   "id": "8cb93bca-f1fd-4a42-acb6-8c63dc6df127",
   "metadata": {},
   "source": [
    "# Feature Importance"
   ]
  },
  {
   "cell_type": "code",
   "execution_count": 59,
   "id": "d6fb2060-533e-44c2-881f-1f7e1e3f589a",
   "metadata": {},
   "outputs": [
    {
     "data": {
      "image/png": "[encoded data removed]",
      "text/plain": [
       "<Figure size 1000x700 with 1 Axes>"
      ]
     },
     "metadata": {},
     "output_type": "display_data"
    }
   ],
   "source": [
    "# Feature Importance for Machine Learning Models\n",
    "\n",
    "from sklearn.tree import DecisionTreeRegressor\n",
    "from sklearn.ensemble import RandomForestRegressor, GradientBoostingRegressor, ExtraTreesRegressor\n",
    "from sklearn.preprocessing import StandardScaler, LabelEncoder\n",
    "import matplotlib.pyplot as plt\n",
    "\n",
    "# Encode categorical variable 'continent'\n",
    "label_encoder = LabelEncoder()\n",
    "final_data['continent'] = label_encoder.fit_transform(final_data['continent'])\n",
    "\n",
    "# Select features and target\n",
    "X = final_data[['population', 'gdp', 'olympics_index', 'sports_index', 'continent']]\n",
    "y = final_data['total']\n",
    "\n",
    "# Standardize the numerical features\n",
    "scaler = StandardScaler()\n",
    "X_scaled = scaler.fit_transform(X)\n",
    "\n",
    "# Check the preprocessed data\n",
    "X_scaled[:5], y[:5]\n",
    "\n",
    "# Initialize the models\n",
    "models = {\n",
    "    'Decision Tree': DecisionTreeRegressor(random_state=42),\n",
    "    'Random Forest': RandomForestRegressor(random_state=42),\n",
    "    'Gradient Boosting': GradientBoostingRegressor(random_state=42),\n",
    "    'Extra Trees': ExtraTreesRegressor(random_state=42)\n",
    "}\n",
    "\n",
    "# Dictionary to store feature importances\n",
    "feature_importances = {}\n",
    "\n",
    "# Fit the models and store feature importances\n",
    "for name, model in models.items():\n",
    "    model.fit(X_scaled, y)\n",
    "    feature_importances[name] = model.feature_importances_\n",
    "\n",
    "# Convert the feature importances to a DataFrame for easy plotting\n",
    "importances_df = pd.DataFrame(feature_importances, index=['population', 'gdp', 'olympics_index', 'sports_index', 'continent'])\n",
    "\n",
    "# Plot the feature importances\n",
    "importances_df.plot(kind='barh', figsize=(10, 7))\n",
    "plt.title('Feature Importance Comparison Across Models')\n",
    "plt.xlabel('Importance')\n",
    "plt.ylabel('Features')\n",
    "plt.savefig('feature_importance.png')\n",
    "plt.show()"
   ]
  },
  {
   "cell_type": "code",
   "execution_count": 54,
   "id": "69f9e84f-5fef-4320-84b5-83b9ddf0843d",
   "metadata": {},
   "outputs": [
    {
     "name": "stdout",
     "output_type": "stream",
     "text": [
      "3/3 [==============================] - 0s 457us/step\n",
      "3/3 [==============================] - 0s 389us/step\n",
      "3/3 [==============================] - 0s 503us/step\n",
      "3/3 [==============================] - 0s 470us/step\n",
      "3/3 [==============================] - 0s 437us/step\n",
      "3/3 [==============================] - 0s 517us/step\n",
      "3/3 [==============================] - 0s 432us/step\n",
      "3/3 [==============================] - 0s 456us/step\n",
      "3/3 [==============================] - 0s 424us/step\n",
      "3/3 [==============================] - 0s 425us/step\n",
      "3/3 [==============================] - 0s 390us/step\n",
      "3/3 [==============================] - 0s 423us/step\n",
      "3/3 [==============================] - 0s 386us/step\n",
      "3/3 [==============================] - 0s 407us/step\n",
      "3/3 [==============================] - 0s 408us/step\n",
      "3/3 [==============================] - 0s 660us/step\n",
      "3/3 [==============================] - 0s 479us/step\n",
      "3/3 [==============================] - 0s 445us/step\n",
      "3/3 [==============================] - 0s 514us/step\n",
      "3/3 [==============================] - 0s 444us/step\n",
      "3/3 [==============================] - 0s 443us/step\n",
      "3/3 [==============================] - 0s 432us/step\n",
      "3/3 [==============================] - 0s 450us/step\n",
      "3/3 [==============================] - 0s 448us/step\n",
      "3/3 [==============================] - 0s 398us/step\n",
      "3/3 [==============================] - 0s 449us/step\n",
      "3/3 [==============================] - 0s 423us/step\n",
      "3/3 [==============================] - 0s 394us/step\n",
      "3/3 [==============================] - 0s 417us/step\n",
      "3/3 [==============================] - 0s 389us/step\n",
      "3/3 [==============================] - 0s 378us/step\n",
      "3/3 [==============================] - 0s 329us/step\n",
      "3/3 [==============================] - 0s 386us/step\n",
      "3/3 [==============================] - 0s 393us/step\n",
      "3/3 [==============================] - 0s 412us/step\n",
      "3/3 [==============================] - 0s 394us/step\n",
      "3/3 [==============================] - 0s 367us/step\n",
      "3/3 [==============================] - 0s 431us/step\n",
      "3/3 [==============================] - 0s 361us/step\n",
      "3/3 [==============================] - 0s 410us/step\n",
      "3/3 [==============================] - 0s 419us/step\n",
      "3/3 [==============================] - 0s 386us/step\n",
      "3/3 [==============================] - 0s 453us/step\n",
      "3/3 [==============================] - 0s 419us/step\n",
      "3/3 [==============================] - 0s 453us/step\n",
      "3/3 [==============================] - 0s 504us/step\n",
      "3/3 [==============================] - 0s 439us/step\n",
      "3/3 [==============================] - 0s 491us/step\n",
      "3/3 [==============================] - 0s 468us/step\n",
      "3/3 [==============================] - 0s 413us/step\n",
      "3/3 [==============================] - 0s 414us/step\n"
     ]
    },
    {
     "data": {
      "image/png": "[encoded data removed]",
      "text/plain": [
       "<Figure size 1000x700 with 1 Axes>"
      ]
     },
     "metadata": {},
     "output_type": "display_data"
    }
   ],
   "source": [
    "# feature importance for nural network model\n",
    "\n",
    "import pandas as pd\n",
    "from sklearn.preprocessing import StandardScaler, LabelEncoder\n",
    "from sklearn.inspection import permutation_importance\n",
    "from sklearn.metrics import mean_absolute_error\n",
    "import matplotlib.pyplot as plt\n",
    "from tensorflow.keras.models import Sequential\n",
    "from tensorflow.keras.layers import Dense\n",
    "import numpy as np\n",
    "\n",
    "# Load the dataset\n",
    "file_path = 'final_olympic_data.csv'\n",
    "olympic_data = pd.read_csv(file_path)\n",
    "\n",
    "# Encode categorical variable 'continent'\n",
    "label_encoder = LabelEncoder()\n",
    "olympic_data['continent'] = label_encoder.fit_transform(olympic_data['continent'])\n",
    "\n",
    "# Select features and target\n",
    "X = olympic_data[['population', 'gdp', 'olympics_index', 'sports_index', 'continent']]\n",
    "y = olympic_data['total']\n",
    "\n",
    "# Standardize the numerical features\n",
    "scaler = StandardScaler()\n",
    "X_scaled = scaler.fit_transform(X)\n",
    "\n",
    "# Define the neural network model\n",
    "nn_model = Sequential([\n",
    "    Dense(64, input_shape=(X_scaled.shape[1],), activation='relu'),\n",
    "    Dense(32, activation='relu'),\n",
    "    Dense(16, activation='relu'),\n",
    "    Dense(1)  # Output layer for regression\n",
    "])\n",
    "\n",
    "# Compile the model\n",
    "nn_model.compile(optimizer='adam', loss='mean_absolute_error')\n",
    "\n",
    "# Train the model\n",
    "nn_model.fit(X_scaled, y, epochs=100, verbose=0)\n",
    "\n",
    "# Define a custom scoring function\n",
    "def custom_scorer(model, X, y):\n",
    "    y_pred = model.predict(X).flatten()\n",
    "    return -mean_absolute_error(y, y_pred)\n",
    "\n",
    "# Wrap the neural network model in a scikit-learn compatible function\n",
    "class KerasRegressor:\n",
    "    def __init__(self, model):\n",
    "        self.model = model\n",
    "\n",
    "    def fit(self, X, y):\n",
    "        self.model.fit(X, y, verbose=0)\n",
    "\n",
    "    def predict(self, X):\n",
    "        return self.model.predict(X).flatten()\n",
    "\n",
    "    def score(self, X, y):\n",
    "        return custom_scorer(self.model, X, y)\n",
    "\n",
    "# Create an instance of the wrapped Keras model\n",
    "wrapped_model = KerasRegressor(nn_model)\n",
    "\n",
    "# Calculate permutation importance\n",
    "perm_importance = permutation_importance(wrapped_model, X_scaled, y, n_repeats=10, random_state=42, scoring='neg_mean_absolute_error')\n",
    "\n",
    "# Extract and display feature importances\n",
    "nn_feature_importance = perm_importance.importances_mean\n",
    "\n",
    "# Create a DataFrame for easy plotting\n",
    "importances_df = pd.DataFrame({\n",
    "    'Feature': ['population', 'gdp', 'olympics_index', 'sports_index', 'continent'],\n",
    "    'Importance': nn_feature_importance\n",
    "})\n",
    "\n",
    "# Plot the feature importances\n",
    "importances_df.sort_values(by='Importance', ascending=True).plot(kind='barh', x='Feature', y='Importance', figsize=(10, 7), color='skyblue')\n",
    "plt.title('Feature Importance for Neural Network Model')\n",
    "plt.xlabel('Importance')\n",
    "plt.ylabel('Features')\n",
    "plt.savefig('NN_feature_importance.png')\n",
    "plt.show()"
   ]
  },
  {
   "cell_type": "markdown",
   "id": "cb6dfc6f-dc63-4385-82e8-8689463f9fa4",
   "metadata": {},
   "source": [
    "# End of Presentation Thank You"
   ]
  },
  {
   "cell_type": "code",
   "execution_count": null,
   "id": "cdf4dbdf-ac12-4cc3-8996-4cfe12ab0c77",
   "metadata": {},
   "outputs": [],
   "source": []
  }
 ],
 "metadata": {
  "kernelspec": {
   "display_name": "Python 3 (ipykernel)",
   "language": "python",
   "name": "python3"
  },
  "language_info": {
   "codemirror_mode": {
    "name": "ipython",
    "version": 3
   },
   "file_extension": ".py",
   "mimetype": "text/x-python",
   "name": "python",
   "nbconvert_exporter": "python",
   "pygments_lexer": "ipython3",
   "version": "3.11.5"
  }
 },
 "nbformat": 4,
 "nbformat_minor": 5
}
